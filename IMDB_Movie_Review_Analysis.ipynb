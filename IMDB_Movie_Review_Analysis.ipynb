{
  "nbformat": 4,
  "nbformat_minor": 0,
  "metadata": {
    "colab": {
      "name": "IMDB Movie Review Analysis.ipynb",
      "provenance": []
    },
    "kernelspec": {
      "name": "python3",
      "display_name": "Python 3"
    }
  },
  "cells": [
    {
      "cell_type": "markdown",
      "metadata": {
        "id": "jxp1aBEzdI2h",
        "colab_type": "text"
      },
      "source": [
        "##Importing Libraries"
      ]
    },
    {
      "cell_type": "code",
      "metadata": {
        "id": "ewuvQOE8M_mH",
        "colab_type": "code",
        "colab": {
          "base_uri": "https://localhost:8080/",
          "height": 50
        },
        "outputId": "29c60a46-5972-44d5-84f2-a8d76589fdb6"
      },
      "source": [
        "import numpy as np # linear algebra\n",
        "import pandas as pd # data processing, CSV file I/O (e.g. pd.read_csv)\n",
        "import tensorflow as tf\n",
        "import re\n",
        "import nltk\n",
        "nltk.download('stopwords')\n",
        "from nltk.corpus import stopwords\n",
        "from nltk.stem.porter import PorterStemmer\n",
        "import matplotlib.pyplot as plt\n",
        "from tensorflow import keras\n",
        "from tensorflow.keras.preprocessing.text import Tokenizer\n",
        "from tensorflow.keras.preprocessing.sequence import pad_sequences\n",
        "from sklearn.model_selection import train_test_split\n"
      ],
      "execution_count": 40,
      "outputs": [
        {
          "output_type": "stream",
          "text": [
            "[nltk_data] Downloading package stopwords to /root/nltk_data...\n",
            "[nltk_data]   Package stopwords is already up-to-date!\n"
          ],
          "name": "stdout"
        }
      ]
    },
    {
      "cell_type": "code",
      "metadata": {
        "id": "Ow_KEIbvPCF0",
        "colab_type": "code",
        "colab": {
          "base_uri": "https://localhost:8080/",
          "height": 214
        },
        "outputId": "c5da2eb4-3e0f-4e90-9ca5-a505e456f24a"
      },
      "source": [
        "#Load Dataset\n",
        "df=pd.read_csv('imdb_dataset.csv')\n",
        "print(df.shape)\n",
        "df.head()\n"
      ],
      "execution_count": 10,
      "outputs": [
        {
          "output_type": "stream",
          "text": [
            "(50000, 2)\n"
          ],
          "name": "stdout"
        },
        {
          "output_type": "execute_result",
          "data": {
            "text/html": [
              "<div>\n",
              "<style scoped>\n",
              "    .dataframe tbody tr th:only-of-type {\n",
              "        vertical-align: middle;\n",
              "    }\n",
              "\n",
              "    .dataframe tbody tr th {\n",
              "        vertical-align: top;\n",
              "    }\n",
              "\n",
              "    .dataframe thead th {\n",
              "        text-align: right;\n",
              "    }\n",
              "</style>\n",
              "<table border=\"1\" class=\"dataframe\">\n",
              "  <thead>\n",
              "    <tr style=\"text-align: right;\">\n",
              "      <th></th>\n",
              "      <th>review</th>\n",
              "      <th>sentiment</th>\n",
              "    </tr>\n",
              "  </thead>\n",
              "  <tbody>\n",
              "    <tr>\n",
              "      <th>0</th>\n",
              "      <td>One of the other reviewers has mentioned that ...</td>\n",
              "      <td>positive</td>\n",
              "    </tr>\n",
              "    <tr>\n",
              "      <th>1</th>\n",
              "      <td>A wonderful little production. &lt;br /&gt;&lt;br /&gt;The...</td>\n",
              "      <td>positive</td>\n",
              "    </tr>\n",
              "    <tr>\n",
              "      <th>2</th>\n",
              "      <td>I thought this was a wonderful way to spend ti...</td>\n",
              "      <td>positive</td>\n",
              "    </tr>\n",
              "    <tr>\n",
              "      <th>3</th>\n",
              "      <td>Basically there's a family where a little boy ...</td>\n",
              "      <td>negative</td>\n",
              "    </tr>\n",
              "    <tr>\n",
              "      <th>4</th>\n",
              "      <td>Petter Mattei's \"Love in the Time of Money\" is...</td>\n",
              "      <td>positive</td>\n",
              "    </tr>\n",
              "  </tbody>\n",
              "</table>\n",
              "</div>"
            ],
            "text/plain": [
              "                                              review sentiment\n",
              "0  One of the other reviewers has mentioned that ...  positive\n",
              "1  A wonderful little production. <br /><br />The...  positive\n",
              "2  I thought this was a wonderful way to spend ti...  positive\n",
              "3  Basically there's a family where a little boy ...  negative\n",
              "4  Petter Mattei's \"Love in the Time of Money\" is...  positive"
            ]
          },
          "metadata": {
            "tags": []
          },
          "execution_count": 10
        }
      ]
    },
    {
      "cell_type": "markdown",
      "metadata": {
        "id": "VJwfpegPdp8-",
        "colab_type": "text"
      },
      "source": [
        "##Visualization\n",
        "To visualize the work and choose the proper approach to pre-process data and visualize the text data.\n",
        "\n",
        "So What is the most common words? Use different approach to visualize the most common words. From this we can find out if any inappropriate words which could be removed.\n",
        "\n"
      ]
    },
    {
      "cell_type": "code",
      "metadata": {
        "id": "vGRvcqBAPVtJ",
        "colab_type": "code",
        "colab": {
          "base_uri": "https://localhost:8080/",
          "height": 1000
        },
        "outputId": "0459b75e-1356-48a9-ebaf-4fe7c60fca20"
      },
      "source": [
        "from collections import Counter\n",
        "Counter(\" \".join(df[\"review\"]).lower().split()).most_common(100)"
      ],
      "execution_count": 7,
      "outputs": [
        {
          "output_type": "execute_result",
          "data": {
            "text/plain": [
              "[('the', 638861),\n",
              " ('a', 316615),\n",
              " ('and', 313637),\n",
              " ('of', 286661),\n",
              " ('to', 264573),\n",
              " ('is', 204876),\n",
              " ('in', 179807),\n",
              " ('i', 141587),\n",
              " ('this', 138483),\n",
              " ('that', 130140),\n",
              " ('it', 129614),\n",
              " ('/><br', 100974),\n",
              " ('was', 93258),\n",
              " ('as', 88242),\n",
              " ('with', 84590),\n",
              " ('for', 84510),\n",
              " ('but', 77864),\n",
              " ('on', 62890),\n",
              " ('movie', 61492),\n",
              " ('are', 57009),\n",
              " ('his', 56870),\n",
              " ('not', 56765),\n",
              " ('you', 55600),\n",
              " ('film', 55086),\n",
              " ('have', 54423),\n",
              " ('he', 51062),\n",
              " ('be', 50901),\n",
              " ('at', 45259),\n",
              " ('one', 44983),\n",
              " ('by', 43359),\n",
              " ('an', 42330),\n",
              " ('they', 40860),\n",
              " ('from', 39322),\n",
              " ('all', 38570),\n",
              " ('who', 38326),\n",
              " ('like', 37281),\n",
              " ('so', 35972),\n",
              " ('just', 34259),\n",
              " ('or', 33300),\n",
              " ('has', 32610),\n",
              " ('about', 32398),\n",
              " ('her', 31244),\n",
              " (\"it's\", 31212),\n",
              " ('if', 30794),\n",
              " ('some', 30165),\n",
              " ('out', 28980),\n",
              " ('what', 28008),\n",
              " ('very', 26908),\n",
              " ('when', 26904),\n",
              " ('there', 26079),\n",
              " ('more', 25869),\n",
              " ('would', 23807),\n",
              " ('even', 23681),\n",
              " ('my', 23473),\n",
              " ('good', 23467),\n",
              " ('she', 23418),\n",
              " ('their', 22604),\n",
              " ('only', 22588),\n",
              " ('no', 22387),\n",
              " ('really', 21805),\n",
              " ('had', 21596),\n",
              " ('up', 21415),\n",
              " ('can', 21328),\n",
              " ('which', 21152),\n",
              " ('see', 20901),\n",
              " ('were', 20707),\n",
              " ('than', 19106),\n",
              " ('we', 18333),\n",
              " ('-', 18201),\n",
              " ('been', 17940),\n",
              " ('get', 17689),\n",
              " ('into', 17586),\n",
              " ('will', 17572),\n",
              " ('much', 17278),\n",
              " ('because', 17130),\n",
              " ('story', 16810),\n",
              " ('how', 16772),\n",
              " ('most', 16750),\n",
              " ('other', 16373),\n",
              " ('do', 15771),\n",
              " ('also', 15743),\n",
              " (\"don't\", 15714),\n",
              " ('time', 15657),\n",
              " ('its', 15648),\n",
              " ('me', 15501),\n",
              " ('great', 15465),\n",
              " ('first', 15455),\n",
              " ('make', 15028),\n",
              " ('people', 15028),\n",
              " ('could', 14927),\n",
              " ('any', 14741),\n",
              " ('/>the', 14702),\n",
              " ('after', 13948),\n",
              " ('then', 13761),\n",
              " ('made', 13562),\n",
              " ('bad', 13494),\n",
              " ('think', 13304),\n",
              " ('many', 12877),\n",
              " ('being', 12697),\n",
              " ('never', 12621)]"
            ]
          },
          "metadata": {
            "tags": []
          },
          "execution_count": 7
        }
      ]
    },
    {
      "cell_type": "code",
      "metadata": {
        "id": "yzt5MZUGPyl2",
        "colab_type": "code",
        "colab": {
          "base_uri": "https://localhost:8080/",
          "height": 197
        },
        "outputId": "8cb70f59-d92a-48ab-c3e8-2803e920ce9b"
      },
      "source": [
        "#Label Encoding\n",
        "from sklearn import preprocessing\n",
        "label_encoder = preprocessing.LabelEncoder()\n",
        "df['sentiment'] = label_encoder.fit_transform(df['sentiment'])\n",
        "df.head()"
      ],
      "execution_count": 14,
      "outputs": [
        {
          "output_type": "execute_result",
          "data": {
            "text/html": [
              "<div>\n",
              "<style scoped>\n",
              "    .dataframe tbody tr th:only-of-type {\n",
              "        vertical-align: middle;\n",
              "    }\n",
              "\n",
              "    .dataframe tbody tr th {\n",
              "        vertical-align: top;\n",
              "    }\n",
              "\n",
              "    .dataframe thead th {\n",
              "        text-align: right;\n",
              "    }\n",
              "</style>\n",
              "<table border=\"1\" class=\"dataframe\">\n",
              "  <thead>\n",
              "    <tr style=\"text-align: right;\">\n",
              "      <th></th>\n",
              "      <th>review</th>\n",
              "      <th>sentiment</th>\n",
              "    </tr>\n",
              "  </thead>\n",
              "  <tbody>\n",
              "    <tr>\n",
              "      <th>0</th>\n",
              "      <td>One of the other reviewers has mentioned that ...</td>\n",
              "      <td>1</td>\n",
              "    </tr>\n",
              "    <tr>\n",
              "      <th>1</th>\n",
              "      <td>A wonderful little production. &lt;br /&gt;&lt;br /&gt;The...</td>\n",
              "      <td>1</td>\n",
              "    </tr>\n",
              "    <tr>\n",
              "      <th>2</th>\n",
              "      <td>I thought this was a wonderful way to spend ti...</td>\n",
              "      <td>1</td>\n",
              "    </tr>\n",
              "    <tr>\n",
              "      <th>3</th>\n",
              "      <td>Basically there's a family where a little boy ...</td>\n",
              "      <td>0</td>\n",
              "    </tr>\n",
              "    <tr>\n",
              "      <th>4</th>\n",
              "      <td>Petter Mattei's \"Love in the Time of Money\" is...</td>\n",
              "      <td>1</td>\n",
              "    </tr>\n",
              "  </tbody>\n",
              "</table>\n",
              "</div>"
            ],
            "text/plain": [
              "                                              review  sentiment\n",
              "0  One of the other reviewers has mentioned that ...          1\n",
              "1  A wonderful little production. <br /><br />The...          1\n",
              "2  I thought this was a wonderful way to spend ti...          1\n",
              "3  Basically there's a family where a little boy ...          0\n",
              "4  Petter Mattei's \"Love in the Time of Money\" is...          1"
            ]
          },
          "metadata": {
            "tags": []
          },
          "execution_count": 14
        }
      ]
    },
    {
      "cell_type": "code",
      "metadata": {
        "id": "itJzF-PeQp1I",
        "colab_type": "code",
        "colab": {
          "base_uri": "https://localhost:8080/",
          "height": 66
        },
        "outputId": "32ba91e4-a62b-425c-fdc0-e504be1f8e3a"
      },
      "source": [
        "df.sentiment.value_counts()"
      ],
      "execution_count": 15,
      "outputs": [
        {
          "output_type": "execute_result",
          "data": {
            "text/plain": [
              "1    25000\n",
              "0    25000\n",
              "Name: sentiment, dtype: int64"
            ]
          },
          "metadata": {
            "tags": []
          },
          "execution_count": 15
        }
      ]
    },
    {
      "cell_type": "code",
      "metadata": {
        "id": "eiUYrul3RDQp",
        "colab_type": "code",
        "colab": {
          "base_uri": "https://localhost:8080/",
          "height": 404
        },
        "outputId": "671f3aa7-3056-4aaa-877a-516a78858e84"
      },
      "source": [
        "# Now, let's see the average number of words per sample\n",
        "plt.figure(figsize=(10, 6))\n",
        "plt.hist([len(sample) for sample in list(df['review'])], 50)\n",
        "plt.xlabel('Length of samples')\n",
        "plt.ylabel('Number of samples')\n",
        "plt.title('Sample length distribution')\n",
        "plt.grid(b=True, which='major', color='#666666', linestyle='-')\n",
        "plt.show()"
      ],
      "execution_count": 49,
      "outputs": [
        {
          "output_type": "display_data",
          "data": {
            "image/png": "[encoded data removed]",
            "text/plain": [
              "<Figure size 720x432 with 1 Axes>"
            ]
          },
          "metadata": {
            "tags": []
          }
        }
      ]
    },
    {
      "cell_type": "code",
      "metadata": {
        "id": "Ld0uCwQGReaq",
        "colab_type": "code",
        "colab": {}
      },
      "source": [
        "df['review'] = df['review'].str.replace('<br />','')\n",
        "df['review'] = df['review'].str.lower()"
      ],
      "execution_count": 0,
      "outputs": []
    },
    {
      "cell_type": "code",
      "metadata": {
        "id": "OuRTwfJSR74E",
        "colab_type": "code",
        "colab": {
          "base_uri": "https://localhost:8080/",
          "height": 50
        },
        "outputId": "8c18dd91-1f41-4ca7-95fb-438d10312e50"
      },
      "source": [
        "print('The maximum length of a sentence is: ',np.max(df['review'].str.split().apply(len).value_counts()))\n",
        "print('The average lenth of a sentence is: ', np.average(df['review'].str.split().apply(len).value_counts()))"
      ],
      "execution_count": 19,
      "outputs": [
        {
          "output_type": "stream",
          "text": [
            "The maximum length of a sentence is:  401\n",
            "The average lenth of a sentence is:  48.732943469785575\n"
          ],
          "name": "stdout"
        }
      ]
    },
    {
      "cell_type": "markdown",
      "metadata": {
        "id": "Ch6-J0xBfH6v",
        "colab_type": "text"
      },
      "source": [
        "##Vectorization\n",
        "Basically Vectorization is the general process of turning a collection of text documents into numerical feature vectors.\n",
        "\n",
        "CountVectorizer provided by the scikit-learn library to vectorize sentences. It takes the words of each sentence and creates a vocabulary of all the unique words in the sentences. This vocabulary can then be used to create a feature vector of the count of the words:"
      ]
    },
    {
      "cell_type": "code",
      "metadata": {
        "id": "13RmGKJjWiHi",
        "colab_type": "code",
        "colab": {
          "base_uri": "https://localhost:8080/",
          "height": 640
        },
        "outputId": "4153584c-bce8-4a16-d3e5-e978ab99253b"
      },
      "source": [
        "from sklearn.feature_extraction.text import CountVectorizer\n",
        "vectorizer = CountVectorizer()\n",
        "vect_texts = vectorizer.fit_transform(list(df['review']))\n",
        "# ['word1', 'word2', 'word3', 'word4']\n",
        "all_ngrams = vectorizer.get_feature_names()\n",
        "num_ngrams = min(50, len(all_ngrams))\n",
        "all_counts = vect_texts.sum(axis=0).tolist()[0]\n",
        "\n",
        "all_ngrams, all_counts = zip(*[(n, c) for c, n in sorted(zip(all_counts, all_ngrams), reverse=True)])\n",
        "ngrams = all_ngrams[:num_ngrams]\n",
        "counts = all_counts[:num_ngrams]\n",
        "\n",
        "idx = np.arange(num_ngrams)\n",
        "\n",
        "# Let's now plot a frequency distribution plot of the most seen words in the corpus.\n",
        "plt.figure(figsize=(15, 10))\n",
        "plt.bar(idx, counts, width=0.8)\n",
        "plt.xlabel('N-grams')\n",
        "plt.ylabel('Frequencies')\n",
        "plt.title('Frequency distribution of ngrams')\n",
        "plt.xticks(idx, ngrams, rotation=45)\n",
        "plt.show()\n"
      ],
      "execution_count": 51,
      "outputs": [
        {
          "output_type": "display_data",
          "data": {
            "image/png": "[encoded data removed]",
            "text/plain": [
              "<Figure size 1080x720 with 1 Axes>"
            ]
          },
          "metadata": {
            "tags": []
          }
        }
      ]
    },
    {
      "cell_type": "markdown",
      "metadata": {
        "id": "SeGRdndbfdW3",
        "colab_type": "text"
      },
      "source": [
        "##TF IDF Vectorizer -> Term frequency_Inverse document frequency\n",
        "The goal of using tf-idf instead of the raw frequencies of occurrence of a token in a given document is to scale down the impact of tokens that occur very frequently in a given corpus and that are hence empirically less informative than features that occur in a small fraction of the training corpus.\n",
        "\n",
        "Let's now prepare the data to feed into the model. For the data preparation step we will get bigrams and unigrams from the data and encode it using tf-idf. And will select the top 20000 features from the vector of tokens. Discard features that occurs less than two times, and will f_classif to get feature importance."
      ]
    },
    {
      "cell_type": "code",
      "metadata": {
        "id": "7embx8j_SFQi",
        "colab_type": "code",
        "colab": {
          "base_uri": "https://localhost:8080/",
          "height": 70
        },
        "outputId": "1bf82593-f303-4221-d807-9b83e2be161a"
      },
      "source": [
        "from sklearn.feature_extraction.text import TfidfVectorizer\n",
        "from sklearn.feature_selection import SelectKBest\n",
        "from sklearn.feature_selection import f_classif\n",
        "NGRAM_RANGE = (1, 2)\n",
        "TOP_K = 20000\n",
        "TOKEN_MODE = 'word'\n",
        "MIN_DOC_FREQ = 2\n",
        "\n",
        "def ngram_vectorize(texts, labels):\n",
        "    kwargs = {\n",
        "        'ngram_range' : NGRAM_RANGE,\n",
        "        'dtype' : 'int32',\n",
        "        'strip_accents' : 'unicode',\n",
        "        'decode_error' : 'replace',\n",
        "        'analyzer' : TOKEN_MODE,\n",
        "        'min_df' : MIN_DOC_FREQ,\n",
        "    }\n",
        "    # Learn Vocab from train texts and vectorize train and val sets\n",
        "    tfidf_vectorizer = TfidfVectorizer(**kwargs)\n",
        "    transformed_texts = tfidf_vectorizer.fit_transform(texts)\n",
        "    \n",
        "    # Select best k features, with feature importance measured by f_classif\n",
        "    # Set k as 20000 or (if number of ngrams is less) number of ngrams   \n",
        "    selector = SelectKBest(f_classif, k=min(TOP_K, transformed_texts.shape[1]))\n",
        "    selector.fit(transformed_texts, labels)\n",
        "    transformed_texts = selector.transform(transformed_texts).astype('float32')\n",
        "    return transformed_texts\n",
        "# Vectorize the data\n",
        "vect_data = ngram_vectorize(df['review'], df['sentiment'])"
      ],
      "execution_count": 25,
      "outputs": [
        {
          "output_type": "stream",
          "text": [
            "/usr/local/lib/python3.6/dist-packages/sklearn/feature_extraction/text.py:1817: UserWarning: Only (<class 'numpy.float64'>, <class 'numpy.float32'>, <class 'numpy.float16'>) 'dtype' should be used. int32 'dtype' will be converted to np.float64.\n",
            "  UserWarning)\n"
          ],
          "name": "stderr"
        }
      ]
    },
    {
      "cell_type": "code",
      "metadata": {
        "id": "BVlDePrHXa7W",
        "colab_type": "code",
        "colab": {
          "base_uri": "https://localhost:8080/",
          "height": 33
        },
        "outputId": "875e8bdf-64b0-4e41-d4fe-5d859434501a"
      },
      "source": [
        "vect_data.shape"
      ],
      "execution_count": 26,
      "outputs": [
        {
          "output_type": "execute_result",
          "data": {
            "text/plain": [
              "(50000, 20000)"
            ]
          },
          "metadata": {
            "tags": []
          },
          "execution_count": 26
        }
      ]
    },
    {
      "cell_type": "code",
      "metadata": {
        "id": "KEG1iNVOX9B1",
        "colab_type": "code",
        "colab": {
          "base_uri": "https://localhost:8080/",
          "height": 50
        },
        "outputId": "e3265526-0b54-46db-e1f2-7196b9bfc50e"
      },
      "source": [
        "from sklearn.model_selection import train_test_split\n",
        "X = vect_data.toarray()\n",
        "y = (np.array(df['sentiment']))\n",
        "\n",
        "X_train, X_test, y_train, y_test = train_test_split(X, y, test_size=0.2, random_state=13)\n",
        "print(\"Train dataset shape: {0}, \\nTest dataset shape: {1}\".format(X_train.shape, X_test.shape))"
      ],
      "execution_count": 29,
      "outputs": [
        {
          "output_type": "stream",
          "text": [
            "Train dataset shape: (40000, 20000), \n",
            "Test dataset shape: (10000, 20000)\n"
          ],
          "name": "stdout"
        }
      ]
    },
    {
      "cell_type": "markdown",
      "metadata": {
        "id": "P26AhjbmgWVh",
        "colab_type": "text"
      },
      "source": [
        "##Build the Model"
      ]
    },
    {
      "cell_type": "code",
      "metadata": {
        "id": "Djb3z0UoYUE8",
        "colab_type": "code",
        "colab": {
          "base_uri": "https://localhost:8080/",
          "height": 286
        },
        "outputId": "507df2b7-046d-448d-9f5b-937796fab61c"
      },
      "source": [
        "model = keras.models.Sequential()\n",
        "model.add(keras.layers.Dense(512, activation='relu'))\n",
        "model.add(keras.layers.Dropout(0.2))\n",
        "model.add(keras.layers.Dense(256, activation='relu'))\n",
        "model.add(keras.layers.Dense(1, activation='sigmoid'))\n",
        "model.compile(optimizer='adam',loss='binary_crossentropy',metrics=['accuracy'])\n",
        "model.fit(X_train, y_train, batch_size=200, epochs=5)"
      ],
      "execution_count": 41,
      "outputs": [
        {
          "output_type": "stream",
          "text": [
            "WARNING:tensorflow:From /usr/local/lib/python3.6/dist-packages/tensorflow_core/python/ops/resource_variable_ops.py:1630: calling BaseResourceVariable.__init__ (from tensorflow.python.ops.resource_variable_ops) with constraint is deprecated and will be removed in a future version.\n",
            "Instructions for updating:\n",
            "If using Keras pass *_constraint arguments to layers.\n",
            "Train on 40000 samples\n",
            "Epoch 1/5\n",
            "40000/40000 [==============================] - 36s 891us/sample - loss: 0.2532 - acc: 0.9040\n",
            "Epoch 2/5\n",
            "40000/40000 [==============================] - 36s 893us/sample - loss: 0.1066 - acc: 0.9617\n",
            "Epoch 3/5\n",
            "40000/40000 [==============================] - 36s 889us/sample - loss: 0.0533 - acc: 0.9823\n",
            "Epoch 4/5\n",
            "40000/40000 [==============================] - 36s 891us/sample - loss: 0.0199 - acc: 0.9940\n",
            "Epoch 5/5\n",
            "40000/40000 [==============================] - 36s 893us/sample - loss: 0.0059 - acc: 0.9985\n"
          ],
          "name": "stdout"
        },
        {
          "output_type": "execute_result",
          "data": {
            "text/plain": [
              "<tensorflow.python.keras.callbacks.History at 0x7fe1204bc780>"
            ]
          },
          "metadata": {
            "tags": []
          },
          "execution_count": 41
        }
      ]
    },
    {
      "cell_type": "code",
      "metadata": {
        "id": "eLz5es6LZtyg",
        "colab_type": "code",
        "colab": {
          "base_uri": "https://localhost:8080/",
          "height": 33
        },
        "outputId": "067159e4-b2e9-4684-d279-32cfed739b6b"
      },
      "source": [
        "y_pred= model.predict_classes(X_test)\n",
        "from sklearn.metrics import accuracy_score\n",
        "acc = accuracy_score(y_pred, y_test)\n",
        "print(\"Test Accuracy :\",100*acc)"
      ],
      "execution_count": 42,
      "outputs": [
        {
          "output_type": "stream",
          "text": [
            "Test Accuracy : 91.9\n"
          ],
          "name": "stdout"
        }
      ]
    },
    {
      "cell_type": "code",
      "metadata": {
        "id": "zw_Knk-8bRdX",
        "colab_type": "code",
        "colab": {}
      },
      "source": [
        ""
      ],
      "execution_count": 0,
      "outputs": []
    }
  ]
}